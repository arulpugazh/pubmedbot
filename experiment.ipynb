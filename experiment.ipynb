{
 "cells": [
  {
   "cell_type": "code",
   "execution_count": 1,
   "metadata": {
    "collapsed": true
   },
   "outputs": [],
   "source": [
    "import transform\n",
    "import scihub\n",
    "import os\n",
    "from dbutils import get_new_db_connection\n",
    "from sentence_transformers import SentenceTransformer\n",
    "import pandas as pd"
   ]
  },
  {
   "cell_type": "code",
   "execution_count": 2,
   "metadata": {
    "pycharm": {
     "name": "#%%\n"
    }
   },
   "outputs": [],
   "source": [
    "conn, cur = get_new_db_connection()"
   ]
  },
  {
   "cell_type": "code",
   "execution_count": 3,
   "metadata": {
    "pycharm": {
     "name": "#%%\n"
    }
   },
   "outputs": [],
   "source": [
    "results = cur.execute('''SELECT article FROM abstracts''')"
   ]
  },
  {
   "cell_type": "code",
   "execution_count": 4,
   "metadata": {
    "pycharm": {
     "name": "#%%\n"
    }
   },
   "outputs": [],
   "source": [
    "results = cur.fetchall()\n",
    "df = pd.DataFrame(results, columns=['article'])"
   ]
  },
  {
   "cell_type": "code",
   "execution_count": 4,
   "metadata": {
    "pycharm": {
     "name": "#%%\n"
    }
   },
   "outputs": [],
   "source": []
  },
  {
   "cell_type": "code",
   "execution_count": 5,
   "metadata": {
    "pycharm": {
     "name": "#%%\n"
    }
   },
   "outputs": [
    {
     "name": "stderr",
     "output_type": "stream",
     "text": [
      "WARNING:transformers.modeling_utils:Some weights of BertForQuestionAnswering were not initialized from the model checkpoint at dmis-lab/biobert-v1.1 and are newly initialized: ['qa_outputs.weight', 'qa_outputs.bias']\n",
      "You should probably TRAIN this model on a down-stream task to be able to use it for predictions and inference.\n"
     ]
    }
   ],
   "source": [
    "from transformers import AutoTokenizer, AutoModelForQuestionAnswering\n",
    "\n",
    "# tokenizer = AutoTokenizer.from_pretrained('ktrapeznikov/biobert_v1.1_pubmed_squad_v2')\n",
    "# model = AutoModelForQuestionAnswering.from_pretrained('ktrapeznikov/biobert_v1.1_pubmed_squad_v2')\n",
    "\n",
    "tokenizer = AutoTokenizer.from_pretrained('dmis-lab/biobert-v1.1')\n",
    "model = AutoModelForQuestionAnswering.from_pretrained('dmis-lab/biobert-v1.1')"
   ]
  },
  {
   "cell_type": "markdown",
   "metadata": {
    "pycharm": {
     "name": "#%% md\n"
    }
   },
   "source": [
    "## Inference"
   ]
  },
  {
   "cell_type": "code",
   "execution_count": 6,
   "metadata": {
    "pycharm": {
     "name": "#%%\n"
    }
   },
   "outputs": [
    {
     "name": "stdout",
     "output_type": "stream",
     "text": [
      ". Here , in a sample of 26 participants with T ##BI and 20 healthy comparison participants ( HC ) we measured facial - affect recognition a ##bil - it ##ies and resting - state functional connectivity ( r ##s - FC ) using f ##MR ##I [SEP]\n"
     ]
    }
   ],
   "source": [
    "import torch\n",
    "\n",
    "question, text = \"What is the study size?\", \"Although several studies have demonstrated that facial-affect recognition impairment is common following moderate-severe traumatic brain injury (TBI), and that there are diffuse alterations in large-scale functional brain networks in TBI populations, little is known about the relationship between the two. Here, in a sample of 26 participants with TBI and 20 healthy comparison participants (HC) we measured facial-affect recognition abil- ities and resting-state functional connectivity (rs-FC) using fMRI\"\n",
    "input_text = \"[CLS] \" + question + \" [SEP] \" + text + \" [SEP]\"\n",
    "input_ids = tokenizer.encode(input_text)\n",
    "token_type_ids = [0 if i <= input_ids.index(102) else 1\n",
    "                  for i in range(len(input_ids))]\n",
    "start_scores, end_scores = model(torch.tensor([input_ids]),\n",
    "                                 token_type_ids=torch.tensor([token_type_ids]))\n",
    "all_tokens = tokenizer.convert_ids_to_tokens(input_ids)\n",
    "print(' '.join(all_tokens[torch.argmax(start_scores) : torch.argmax(end_scores)+1]))"
   ]
  },
  {
   "cell_type": "code",
   "execution_count": 7,
   "metadata": {
    "pycharm": {
     "name": "#%%\n"
    }
   },
   "outputs": [
    {
     "name": "stdout",
     "output_type": "stream",
     "text": [
      ". Here , in a sample of 26 participants with T ##BI and 20 healthy comparison participants ( HC ) we measured facial - affect recognition a ##bil - it ##ies and resting - state functional connectivity ( r ##s - FC ) using f ##MR ##I [SEP]\n"
     ]
    }
   ],
   "source": [
    "print(' '.join(all_tokens[torch.argmax(start_scores) : torch.argmax(end_scores)+1]))"
   ]
  },
  {
   "cell_type": "code",
   "execution_count": 8,
   "metadata": {
    "pycharm": {
     "name": "#%%\n"
    }
   },
   "outputs": [],
   "source": [
    "df.to_csv('10k_articles.csv')\n"
   ]
  },
  {
   "cell_type": "code",
   "execution_count": 9,
   "metadata": {
    "pycharm": {
     "name": "#%%\n"
    }
   },
   "outputs": [
    {
     "data": {
      "text/plain": [
       "tensor([[  101,   101,  1327,  1110,  1103,  2025,  2060,   136,   102,  1966,\n",
       "          1317,  2527,  1138,  7160,  1115, 14078,   118,  6975,  4453, 24034,\n",
       "          8341,  1880,  1110,  1887,  1378,  8828,   118,  5199, 23057,  3575,\n",
       "          3773,   113,   157, 24963,   114,   117,  1105,  1115,  1175,  1132,\n",
       "          4267,  3101,  5613, 18651,  1107,  1415,   118,  3418,  8458,  3575,\n",
       "          6379,  1107,   157, 24963,  6623,   117,  1376,  1110,  1227,  1164,\n",
       "          1103,  2398,  1206,  1103,  1160,   119,  3446,   117,  1107,   170,\n",
       "          6876,  1104,  1744,  6635,  1114,   157, 24963,  1105,  1406,  8071,\n",
       "          7577,  6635,   113, 18315,   114,  1195,  7140, 14078,   118,  6975,\n",
       "          4453,   170, 15197,   118,  1122,  1905,  1105,  8137,   118,  1352,\n",
       "          8458, 24466,   113,   187,  1116,   118,  3604,   114,  1606,   175,\n",
       "         21148,  2240,   102,   102]])"
      ]
     },
     "execution_count": 9,
     "metadata": {},
     "output_type": "execute_result"
    }
   ],
   "source": [
    "torch.tensor([input_ids])\n"
   ]
  }
 ],
 "metadata": {
  "kernelspec": {
   "display_name": "PyCharm (pubmedbot)",
   "language": "python",
   "name": "pycharm-98d2700d"
  },
  "language_info": {
   "codemirror_mode": {
    "name": "ipython",
    "version": 3
   },
   "file_extension": ".py",
   "mimetype": "text/x-python",
   "name": "python",
   "nbconvert_exporter": "python",
   "pygments_lexer": "ipython3",
   "version": "3.7.7"
  }
 },
 "nbformat": 4,
 "nbformat_minor": 1
}
